{
    "cells": [
        {
            "cell_type": "markdown",
            "metadata": {
                "collapsed": true
            },
            "source": "# Where to Open a Japanese Restaurant in San Diego?"
        },
        {
            "cell_type": "markdown",
            "metadata": {},
            "source": "## A recent study in Zagat (https://qz.com/657013/what-americans-are-willing-to-pay-for-ethnic-restaurant-food-reveals-some-pretty-deep-prejudices/) demonstrated that Japanese food is the second most expensive cultural food that American's will spend money on.  Due to this, when deciding where to open a new Japanese restaurant, restauranteers should look to zip codes that are above the median household income of the US, as well as a low number of existing Japanese restaurants"
        },
        {
            "cell_type": "markdown",
            "metadata": {},
            "source": "### I set out to determine which zip codes in San Diego offer a low number of competing locations within zip codes above the median household income for the US"
        },
        {
            "cell_type": "code",
            "execution_count": null,
            "metadata": {},
            "outputs": [],
            "source": ""
        }
    ],
    "metadata": {
        "kernelspec": {
            "display_name": "Python 3.7",
            "language": "python",
            "name": "python3"
        },
        "language_info": {
            "codemirror_mode": {
                "name": "ipython",
                "version": 3
            },
            "file_extension": ".py",
            "mimetype": "text/x-python",
            "name": "python",
            "nbconvert_exporter": "python",
            "pygments_lexer": "ipython3",
            "version": "3.7.9"
        }
    },
    "nbformat": 4,
    "nbformat_minor": 1
}